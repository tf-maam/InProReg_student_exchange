{
 "cells": [
  {
   "cell_type": "markdown",
   "id": "floating-folks",
   "metadata": {},
   "source": [
    "# Python Crash-Course\n"
   ]
  },
  {
   "cell_type": "code",
   "execution_count": 1,
   "id": "bronze-elder",
   "metadata": {},
   "outputs": [
    {
     "name": "stdout",
     "output_type": "stream",
     "text": [
      "Hello Kiel\n"
     ]
    }
   ],
   "source": [
    "def hello (name):\n",
    "    print ('Hello' , name )\n",
    "\n",
    "if __name__ == '__main__':\n",
    "    hello ('Kiel')"
   ]
  },
  {
   "cell_type": "markdown",
   "id": "modular-technical",
   "metadata": {},
   "source": [
    "## Functions\n",
    "Functions are used to structure the program and reuse code without the need of rewriting it.\n",
    "In Python functions are defined using the `def` keyword and may contain one or more arguments.\n",
    "A value is returned to the calling program by using the `return` keyword."
   ]
  },
  {
   "cell_type": "code",
   "execution_count": 2,
   "id": "numeric-girlfriend",
   "metadata": {},
   "outputs": [
    {
     "name": "stdout",
     "output_type": "stream",
     "text": [
      "9\n"
     ]
    }
   ],
   "source": [
    "def add(a, b):\n",
    "    return a + b\n",
    "\n",
    "# Usage\n",
    "c = add(4, 5)\n",
    "print(c)"
   ]
  },
  {
   "cell_type": "markdown",
   "id": "indonesian-billy",
   "metadata": {},
   "source": [
    "**Notice:** The colon after the closing parenthesis is required!\n",
    "\n",
    "Functions may have default arguments that are overwritten if the argument is specified. Arguments can also be accessed by their names."
   ]
  },
  {
   "cell_type": "code",
   "execution_count": 3,
   "id": "activated-desire",
   "metadata": {},
   "outputs": [
    {
     "name": "stdout",
     "output_type": "stream",
     "text": [
      "3\n",
      "-5\n"
     ]
    }
   ],
   "source": [
    "def add(a, b=1):\n",
    "    return a + b\n",
    "\n",
    "# Usage\n",
    "c = add(2) # = 3\n",
    "print(c)\n",
    "c = add(b=2, a=-7) # = -5\n",
    "print(c)"
   ]
  },
  {
   "cell_type": "markdown",
   "id": "indirect-blade",
   "metadata": {},
   "source": [
    "## Math\n",
    "Python provides built-in data types for integer and floating point numbers for numerical calculations. Other data types are available for boolean and string operations."
   ]
  },
  {
   "cell_type": "code",
   "execution_count": 4,
   "id": "breathing-province",
   "metadata": {},
   "outputs": [],
   "source": [
    "# Integer numbers\n",
    "int_val = 42\n",
    "\n",
    "# Floating-point numbers\n",
    "float_val = 12.0\n",
    "float_val = 1.234e-5\n",
    "\n",
    "# Boolean values\n",
    "true_val = True\n",
    "false_val = False\n",
    "\n",
    "# Strings\n",
    "string_val = \"Hello\"\n",
    "string_val = 'Kiel'"
   ]
  },
  {
   "cell_type": "markdown",
   "id": "cellular-fraud",
   "metadata": {},
   "source": [
    "These data types are used with numerical and boolean operations."
   ]
  },
  {
   "cell_type": "code",
   "execution_count": 5,
   "id": "powerful-period",
   "metadata": {},
   "outputs": [
    {
     "name": "stdout",
     "output_type": "stream",
     "text": [
      "a + b - c =  0\n",
      "(4.0 * 5.0 / 2.0) % 3 =  1.0\n",
      "2**3 =  8\n",
      "True and False =  False\n",
      "True or False =  True\n",
      "not True =  False\n",
      "False\n",
      "True\n",
      "True\n",
      "False\n",
      "True\n",
      "False\n",
      "True\n"
     ]
    }
   ],
   "source": [
    "# Add and subtract\n",
    "a = 1\n",
    "b = 2\n",
    "c = 3\n",
    "d = a + b - c\n",
    "print('a + b - c = ', d)\n",
    "\n",
    "# Multiplication, Division and Modulo\n",
    "x = (4.0 * 5.0 / 2.0) % 3  # = 1.0\n",
    "print(r'(4.0 * 5.0 / 2.0) % 3 = ', x)\n",
    "\n",
    "# Exponentiation\n",
    "y = 2**3  # = 8\n",
    "print('2**3 = ', y)\n",
    "\n",
    "# Boolean operators\n",
    "res = True and False\n",
    "print('True and False = ', res)\n",
    "res = True or False\n",
    "print('True or False = ', res)\n",
    "res = not True\n",
    "print('not True = ', res)\n",
    "\n",
    "# Comparison operators\n",
    "a = 3\n",
    "print(a < 3)\n",
    "print(a <= 3)\n",
    "print(a == 3) \n",
    "print(a != 3)\n",
    "print(a >= 3)\n",
    "print(a > 3)\n",
    "\n",
    "# Element of\n",
    "print(1 in [1, 2, 3])"
   ]
  },
  {
   "cell_type": "markdown",
   "id": "lyric-ebony",
   "metadata": {},
   "source": [
    "Python also comes with the `math` package, which provides mathematical functions, e.g., number-theoretic, logarithmic, trigonometric, and hyperbolic.\n",
    "For more detailed information, please consider the package documentation under (https://docs.python.org/3/library/math.html)."
   ]
  },
  {
   "cell_type": "code",
   "execution_count": 6,
   "id": "printable-circumstances",
   "metadata": {},
   "outputs": [
    {
     "data": {
      "text/plain": [
       "0.7853981633974483"
      ]
     },
     "execution_count": 6,
     "metadata": {},
     "output_type": "execute_result"
    }
   ],
   "source": [
    "import math\n",
    "\n",
    "math.fabs(-1.0)  # = 1.0\n",
    "math.sqrt(4.0)  # = 2.0\n",
    "math.exp(0.0)  # = 1.0\n",
    "math.log(1.0)  # = 0.0\n",
    "math.radians(45)  # = 0.7853981633974483\n",
    "math.degrees(math.pi)  # 180.0\n",
    "math.sin(math.pi / 2.0)  # = 1.0\n",
    "math.cos(math.pi)  # = 1.0\n",
    "math.acos(0.0)  # math.pi / 2.0\n",
    "math.asin(1.0)  # math.pi / 2.0\n",
    "math.atan(1.0)  # math.pi / 4.0"
   ]
  },
  {
   "cell_type": "markdown",
   "id": "positive-broadcast",
   "metadata": {},
   "source": [
    "**Notice:** Additional packages have to be imported using the `import`` statement at the beginning of the source file."
   ]
  },
  {
   "cell_type": "markdown",
   "id": "informed-mount",
   "metadata": {},
   "source": [
    "### Conditions"
   ]
  },
  {
   "cell_type": "code",
   "execution_count": 7,
   "id": "obvious-channel",
   "metadata": {},
   "outputs": [
    {
     "name": "stdout",
     "output_type": "stream",
     "text": [
      "x is smaller than 10\n"
     ]
    }
   ],
   "source": [
    "i = 12\n",
    "if x >= 10.0 and x < 20.0:\n",
    "    print(\"x between 10 and 20\")\n",
    "elif x < 10.0:\n",
    "    print(\"x is smaller than 10\")\n",
    "else:\n",
    "    print(\"x is larger than 20\")"
   ]
  },
  {
   "cell_type": "markdown",
   "id": "binding-auckland",
   "metadata": {},
   "source": [
    "### Loops\n",
    "A `while` loop executes a command or command block as long as the given condition holds true``"
   ]
  },
  {
   "cell_type": "code",
   "execution_count": 8,
   "id": "advanced-invention",
   "metadata": {},
   "outputs": [],
   "source": [
    "i = 0\n",
    "while i < 10:\n",
    "    i += 2"
   ]
  },
  {
   "cell_type": "markdown",
   "id": "marked-trademark",
   "metadata": {},
   "source": [
    "The `for` loop iterates through a list where the current element can be processed inside."
   ]
  },
  {
   "cell_type": "code",
   "execution_count": 9,
   "id": "collectible-copying",
   "metadata": {},
   "outputs": [
    {
     "name": "stdout",
     "output_type": "stream",
     "text": [
      "Number:  1\n",
      "Number:  1\n",
      "Number:  2\n",
      "Number:  3\n",
      "Number:  5\n"
     ]
    }
   ],
   "source": [
    "for x in [1, 1, 2, 3, 5]:\n",
    "    print(\"Number: \", x)"
   ]
  },
  {
   "cell_type": "markdown",
   "id": "established-privilege",
   "metadata": {},
   "source": [
    "### Lists\n",
    "Lists provide an ordered and iterable store for data with the same or different data type.\n",
    "Each element can be accessed by its index.\n",
    "Elements can be dynamically added or removed from the list.\n",
    "Many built-in functions support lists."
   ]
  },
  {
   "cell_type": "code",
   "execution_count": 10,
   "id": "juvenile-edgar",
   "metadata": {},
   "outputs": [],
   "source": [
    "l = []  # Empty list\n",
    "l = [1, 2, 3]\n",
    "l.append(4)  # l = [1, 2, 3, 4]\n",
    "l[0]    # = 1\n",
    "l[1]    # = 2\n",
    "l[-1]   # = 4\n",
    "l[:2]   # = [1, 2]\n",
    "len(l)  # = 4\n",
    "sum(l)  # = 10\n",
    "min(l)  # = 1\n",
    "max(l)  # = 4\n",
    "l = [i**2 for i in range(5)]  # [0, 1, 4, 9, 16]"
   ]
  },
  {
   "cell_type": "markdown",
   "id": "dirty-washer",
   "metadata": {},
   "source": [
    "### Object Oriented-Programming\n",
    "Object-oriented programming is a programming paradigm that allows data and its processing to be considered together.\n",
    "This allows to structure the code based on object properties.\n",
    "An object is created based on a class, which can be seen as a template.\n",
    "A class defines the data as attributes and the functions as methods that allow to access and modify the data.\n",
    "The methods and attributes of an object are accessed using the point-operator.\n"
   ]
  },
  {
   "cell_type": "code",
   "execution_count": 15,
   "id": "forward-answer",
   "metadata": {},
   "outputs": [
    {
     "name": "stdout",
     "output_type": "stream",
     "text": [
      "1256.6370614359173\n",
      "5\n",
      "5\n"
     ]
    }
   ],
   "source": [
    "class Circle:\n",
    "    # Attribute\n",
    "    radius = 0.0\n",
    "\n",
    "    # Constructor\n",
    "    def __init__(self, radius=10):\n",
    "        self.radius = radius\n",
    "\n",
    "    # Methods\n",
    "    def area(self):\n",
    "        return self.radius**2 * math.pi\n",
    "\n",
    "    def set_radius(self, radius):\n",
    "        self.radius = radius\n",
    "\n",
    "    def get_radius(self):\n",
    "        return self.radius\n",
    "\n",
    "# Create object\n",
    "circle = Circle(20)\n",
    "circleOther = Circle(50)  # other object with different data\n",
    "circleDefault = Circle()  # other object with default values for the data\n",
    "\n",
    "# Calculate area\n",
    "a = circle.area()\n",
    "print(a)\n",
    "\n",
    "# Set and get radius\n",
    "circle.set_radius(5)\n",
    "print(circle.get_radius())\n",
    "print(circle.radius)"
   ]
  },
  {
   "cell_type": "code",
   "execution_count": null,
   "id": "antique-hormone",
   "metadata": {},
   "outputs": [],
   "source": []
  }
 ],
 "metadata": {
  "kernelspec": {
   "display_name": "Python 3",
   "language": "python",
   "name": "python3"
  },
  "language_info": {
   "codemirror_mode": {
    "name": "ipython",
    "version": 3
   },
   "file_extension": ".py",
   "mimetype": "text/x-python",
   "name": "python",
   "nbconvert_exporter": "python",
   "pygments_lexer": "ipython3",
   "version": "3.8.1"
  }
 },
 "nbformat": 4,
 "nbformat_minor": 5
}
